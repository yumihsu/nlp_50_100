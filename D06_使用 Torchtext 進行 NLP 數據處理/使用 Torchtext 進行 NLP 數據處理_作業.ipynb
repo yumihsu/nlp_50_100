{
 "cells": [
  {
   "cell_type": "markdown",
   "metadata": {
    "tags": []
   },
   "source": [
    "### 作業目的: 熟練以Torchtext進行文本資料讀取\n",
    "\n",
    "本次作業主要會使用[polarity](http://www.cs.cornell.edu/people/pabo/movie-review-data/)的電影評論來進行使用torchtext資料讀取，學員可以在附件的polarity.tsv看到所使用的資料。\n",
    "\n",
    "Hint: 這次作業同學可以嘗試使用[torchtext.data.TabularDataset](https://torchtext.readthedocs.io/en/latest/data.html#tabulardataset)，可以更簡易讀取資料"
   ]
  },
  {
   "cell_type": "markdown",
   "metadata": {
    "tags": []
   },
   "source": [
    "### 載入套件"
   ]
  },
  {
   "cell_type": "code",
   "execution_count": 1,
   "metadata": {},
   "outputs": [
    {
     "name": "stdout",
     "output_type": "stream",
     "text": [
      "0.13.1\n"
     ]
    }
   ],
   "source": [
    "import torch\n",
    "import pandas as pd\n",
    "import numpy as np\n",
    "import torchtext\n",
    "import nltk\n",
    "import spacy\n",
    "from torchtext import data, datasets\n",
    "print(torchtext.__version__)"
   ]
  },
  {
   "cell_type": "code",
   "execution_count": 3,
   "metadata": {
    "scrolled": true
   },
   "outputs": [
    {
     "data": {
      "text/html": [
       "<div>\n",
       "<style scoped>\n",
       "    .dataframe tbody tr th:only-of-type {\n",
       "        vertical-align: middle;\n",
       "    }\n",
       "\n",
       "    .dataframe tbody tr th {\n",
       "        vertical-align: top;\n",
       "    }\n",
       "\n",
       "    .dataframe thead th {\n",
       "        text-align: right;\n",
       "    }\n",
       "</style>\n",
       "<table border=\"1\" class=\"dataframe\">\n",
       "  <thead>\n",
       "    <tr style=\"text-align: right;\">\n",
       "      <th></th>\n",
       "      <th>text</th>\n",
       "      <th>label</th>\n",
       "    </tr>\n",
       "  </thead>\n",
       "  <tbody>\n",
       "    <tr>\n",
       "      <th>0</th>\n",
       "      <td>films adapted from comic books have had plenty...</td>\n",
       "      <td>1</td>\n",
       "    </tr>\n",
       "    <tr>\n",
       "      <th>1</th>\n",
       "      <td>every now and then a movie comes along from a ...</td>\n",
       "      <td>1</td>\n",
       "    </tr>\n",
       "    <tr>\n",
       "      <th>2</th>\n",
       "      <td>you've got mail works alot better than it dese...</td>\n",
       "      <td>1</td>\n",
       "    </tr>\n",
       "    <tr>\n",
       "      <th>3</th>\n",
       "      <td>jaws  is a rare film that grabs your attentio...</td>\n",
       "      <td>1</td>\n",
       "    </tr>\n",
       "    <tr>\n",
       "      <th>4</th>\n",
       "      <td>moviemaking is a lot like being the general ma...</td>\n",
       "      <td>1</td>\n",
       "    </tr>\n",
       "  </tbody>\n",
       "</table>\n",
       "</div>"
      ],
      "text/plain": [
       "                                                text  label\n",
       "0  films adapted from comic books have had plenty...      1\n",
       "1  every now and then a movie comes along from a ...      1\n",
       "2  you've got mail works alot better than it dese...      1\n",
       "3   jaws  is a rare film that grabs your attentio...      1\n",
       "4  moviemaking is a lot like being the general ma...      1"
      ]
     },
     "execution_count": 3,
     "metadata": {},
     "output_type": "execute_result"
    }
   ],
   "source": [
    "# 探索資料\n",
    "# 可以發現資料為文本與類別，而類別即為正評與負評\n",
    "input_data = pd.read_csv('./polarity.tsv', delimiter='\\t', header=None, names=['text', 'label'])\n",
    "input_data.head()"
   ]
  },
  {
   "cell_type": "markdown",
   "metadata": {},
   "source": [
    "### 建立Pipeline生成資料"
   ]
  },
  {
   "cell_type": "code",
   "execution_count": 7,
   "metadata": {
    "tags": []
   },
   "outputs": [],
   "source": [
    "# 建立Dataset\n",
    "class Generator_data(object):\n",
    "    def __init__(self, input_data):\n",
    "        self.text = input_data['text']\n",
    "        self.label = input_data['label']\n",
    "        \n",
    "    def token(self, x):\n",
    "        return nltk.word_tokenize(x)\n",
    "    \n",
    "    def __iter__(self):\n",
    "        for i in zip(self.text, self.label):\n",
    "            yield (i[1], i[0])\n",
    "            \n",
    "    def __len__(self):\n",
    "        return len(self.label)\n",
    "    \n",
    "    def __getitem__(self, idx):\n",
    "        return self.label[idx], self.text[idx]"
   ]
  },
  {
   "cell_type": "code",
   "execution_count": 8,
   "metadata": {},
   "outputs": [],
   "source": [
    "from torchtext.data.utils import get_tokenizer\n",
    "from torchtext.vocab import build_vocab_from_iterator\n",
    "\n",
    "tokenizer = get_tokenizer('basic_english')\n",
    "\n",
    "dataset = Generator_data(input_data)\n",
    "train_iter = dataset\n",
    "\n",
    "def yield_tokens(data_iter):\n",
    "    for _, text in data_iter:\n",
    "        yield tokenizer(text)\n",
    "vocab = build_vocab_from_iterator(yield_tokens(train_iter), specials=[\"<unk>\"])\n",
    "vocab.set_default_index(vocab[\"<unk>\"])"
   ]
  },
  {
   "cell_type": "code",
   "execution_count": 9,
   "metadata": {},
   "outputs": [],
   "source": [
    "text_pipeline = lambda x: vocab(tokenizer(x))\n",
    "label_pipeline = lambda x: int(x) -1"
   ]
  },
  {
   "cell_type": "code",
   "execution_count": 10,
   "metadata": {},
   "outputs": [],
   "source": [
    "def collate_batch(batch):\n",
    "    label_list, text_list, offsets = [], [], [0]\n",
    "    for (_label, _text) in batch:\n",
    "        label_list.append(torch.tensor(label_pipeline(_label)))\n",
    "        process_text = torch.tensor(text_pipeline(_text), dtype = torch.int64)\n",
    "        text_list.append(process_text)\n",
    "        offsets.append(process_text.size(0))\n",
    "        \n",
    "    label_list = torch.tensor( label_list, dtype=torch.int64)\n",
    "    offsets = torch.tensor(offsets[:-1]).cumsum(dim=0)\n",
    "    len_pad = int(offsets.max())\n",
    "    text_pad = []\n",
    "    for i in range(len(text_list)):\n",
    "        t = torch.nn.functional.pad(text_list[i], (0,len_pad - text_list[i].shape[0]), 'constant', 0)\n",
    "        t = torch.unsqueeze(t, 0)\n",
    "        text_pad.append(t)\n",
    "    text_pad = torch.cat(text_pad)\n",
    "    return label_list, text_pad, offsets"
   ]
  },
  {
   "cell_type": "code",
   "execution_count": 11,
   "metadata": {},
   "outputs": [
    {
     "name": "stdout",
     "output_type": "stream",
     "text": [
      "tensor([ 0, -1,  0])\n",
      "tensor([[  13,    8,   11,  ...,    0,    0,    0],\n",
      "        [ 214, 1927,  192,  ...,    0,    0,    0],\n",
      "        [ 323,  954,    3,  ...,    0,    0,    0]])\n"
     ]
    }
   ],
   "source": [
    "from torch.utils.data import DataLoader\n",
    "dataloader = DataLoader(train_iter, batch_size=3, shuffle=True, collate_fn=collate_batch)\n",
    "for i in dataloader:\n",
    "    print(i[0])\n",
    "    print(i[1])\n",
    "    break"
   ]
  }
 ],
 "metadata": {
  "kernelspec": {
   "display_name": "Python 3.10.4 ('pytorch_nlp')",
   "language": "python",
   "name": "python3"
  },
  "language_info": {
   "codemirror_mode": {
    "name": "ipython",
    "version": 3
   },
   "file_extension": ".py",
   "mimetype": "text/x-python",
   "name": "python",
   "nbconvert_exporter": "python",
   "pygments_lexer": "ipython3",
   "version": "3.10.4"
  },
  "vscode": {
   "interpreter": {
    "hash": "26ce5c61601092ae2803f7f2dacb793d4bc91692b256a99b8317fa1e35208634"
   }
  }
 },
 "nbformat": 4,
 "nbformat_minor": 4
}
