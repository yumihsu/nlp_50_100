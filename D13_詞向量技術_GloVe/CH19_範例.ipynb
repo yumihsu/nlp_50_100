{
 "cells": [
  {
   "cell_type": "markdown",
   "metadata": {},
   "source": [
    "# 範例 : 載入 GloVe 模型, 並使用 gensim 套件觀察模型表現"
   ]
  },
  {
   "cell_type": "markdown",
   "metadata": {},
   "source": [
    "# [教學目標]\n",
    "- 載入並觀察 GloVe 模型的效果"
   ]
  },
  {
   "cell_type": "markdown",
   "metadata": {},
   "source": [
    "# [學習重點]\n",
    "- 使用 GloVe 官方預訓練詞向量, 並使用 gensim 觀察訓練結果"
   ]
  },
  {
   "cell_type": "markdown",
   "metadata": {},
   "source": [
    "# Step 1\n",
    "- 執行前請先下載 GloVe 預訓練詞向量檔 http://nlp.stanford.edu/data/glove.6B.zip\n",
    "- 解壓縮後, 將 glove.6B.300d.txt 複製到本程式同一執行目錄中, 再執行後續程式"
   ]
  },
  {
   "cell_type": "code",
   "execution_count": 1,
   "metadata": {},
   "outputs": [],
   "source": [
    "# 載入 gensim 與 GloVe 模型容器\n",
    "from gensim.models import KeyedVectors\n",
    "from gensim.scripts.glove2word2vec import glove2word2vec\n",
    "\n",
    "# 忽略警告訊息\n",
    "import warnings\n",
    "warnings.filterwarnings(\"ignore\")"
   ]
  },
  {
   "cell_type": "code",
   "execution_count": 2,
   "metadata": {},
   "outputs": [
    {
     "ename": "FileNotFoundError",
     "evalue": "[Errno 2] No such file or directory: 'glove.6B.300d.txt'",
     "output_type": "error",
     "traceback": [
      "\u001b[0;31m---------------------------------------------------------------------------\u001b[0m",
      "\u001b[0;31mFileNotFoundError\u001b[0m                         Traceback (most recent call last)",
      "\u001b[1;32m/Users/xuyouming/nlp_50_100/D13_詞向量技術_GloVe/CH19_範例.ipynb Cell 6\u001b[0m in \u001b[0;36m<cell line: 4>\u001b[0;34m()\u001b[0m\n\u001b[1;32m      <a href='vscode-notebook-cell:/Users/xuyouming/nlp_50_100/D13_%E8%A9%9E%E5%90%91%E9%87%8F%E6%8A%80%E8%A1%93_GloVe/CH19_%E7%AF%84%E4%BE%8B.ipynb#W5sZmlsZQ%3D%3D?line=1'>2</a>\u001b[0m input_file \u001b[39m=\u001b[39m \u001b[39m'\u001b[39m\u001b[39mglove.6B.300d.txt\u001b[39m\u001b[39m'\u001b[39m\n\u001b[1;32m      <a href='vscode-notebook-cell:/Users/xuyouming/nlp_50_100/D13_%E8%A9%9E%E5%90%91%E9%87%8F%E6%8A%80%E8%A1%93_GloVe/CH19_%E7%AF%84%E4%BE%8B.ipynb#W5sZmlsZQ%3D%3D?line=2'>3</a>\u001b[0m output_file \u001b[39m=\u001b[39m \u001b[39m'\u001b[39m\u001b[39mgensim_glove.6B.300d.txt\u001b[39m\u001b[39m'\u001b[39m\n\u001b[0;32m----> <a href='vscode-notebook-cell:/Users/xuyouming/nlp_50_100/D13_%E8%A9%9E%E5%90%91%E9%87%8F%E6%8A%80%E8%A1%93_GloVe/CH19_%E7%AF%84%E4%BE%8B.ipynb#W5sZmlsZQ%3D%3D?line=3'>4</a>\u001b[0m glove2word2vec(input_file, output_file)\n",
      "File \u001b[0;32m/opt/anaconda3/envs/pytorch_nlp/lib/python3.10/site-packages/gensim/utils.py:1522\u001b[0m, in \u001b[0;36mdeprecated.<locals>.decorator.<locals>.new_func1\u001b[0;34m(*args, **kwargs)\u001b[0m\n\u001b[1;32m   1515\u001b[0m \u001b[39m@wraps\u001b[39m(func)\n\u001b[1;32m   1516\u001b[0m \u001b[39mdef\u001b[39;00m \u001b[39mnew_func1\u001b[39m(\u001b[39m*\u001b[39margs, \u001b[39m*\u001b[39m\u001b[39m*\u001b[39mkwargs):\n\u001b[1;32m   1517\u001b[0m     warnings\u001b[39m.\u001b[39mwarn(\n\u001b[1;32m   1518\u001b[0m         fmt\u001b[39m.\u001b[39mformat(name\u001b[39m=\u001b[39mfunc\u001b[39m.\u001b[39m\u001b[39m__name__\u001b[39m, reason\u001b[39m=\u001b[39mreason),\n\u001b[1;32m   1519\u001b[0m         category\u001b[39m=\u001b[39m\u001b[39mDeprecationWarning\u001b[39;00m,\n\u001b[1;32m   1520\u001b[0m         stacklevel\u001b[39m=\u001b[39m\u001b[39m2\u001b[39m\n\u001b[1;32m   1521\u001b[0m     )\n\u001b[0;32m-> 1522\u001b[0m     \u001b[39mreturn\u001b[39;00m func(\u001b[39m*\u001b[39;49margs, \u001b[39m*\u001b[39;49m\u001b[39m*\u001b[39;49mkwargs)\n",
      "File \u001b[0;32m/opt/anaconda3/envs/pytorch_nlp/lib/python3.10/site-packages/gensim/scripts/glove2word2vec.py:109\u001b[0m, in \u001b[0;36mglove2word2vec\u001b[0;34m(glove_input_file, word2vec_output_file)\u001b[0m\n\u001b[1;32m     92\u001b[0m \u001b[39m@deprecated\u001b[39m(\u001b[39m\"\u001b[39m\u001b[39mKeyedVectors.load_word2vec_format(.., binary=False, no_header=True) loads GLoVE text vectors.\u001b[39m\u001b[39m\"\u001b[39m)\n\u001b[1;32m     93\u001b[0m \u001b[39mdef\u001b[39;00m \u001b[39mglove2word2vec\u001b[39m(glove_input_file, word2vec_output_file):\n\u001b[1;32m     94\u001b[0m     \u001b[39m\"\"\"Convert `glove_input_file` in GloVe format to word2vec format and write it to `word2vec_output_file`.\u001b[39;00m\n\u001b[1;32m     95\u001b[0m \n\u001b[1;32m     96\u001b[0m \u001b[39m    Parameters\u001b[39;00m\n\u001b[0;32m   (...)\u001b[0m\n\u001b[1;32m    107\u001b[0m \n\u001b[1;32m    108\u001b[0m \u001b[39m    \"\"\"\u001b[39;00m\n\u001b[0;32m--> 109\u001b[0m     glovekv \u001b[39m=\u001b[39m KeyedVectors\u001b[39m.\u001b[39;49mload_word2vec_format(glove_input_file, binary\u001b[39m=\u001b[39;49m\u001b[39mFalse\u001b[39;49;00m, no_header\u001b[39m=\u001b[39;49m\u001b[39mTrue\u001b[39;49;00m)\n\u001b[1;32m    111\u001b[0m     num_lines, num_dims \u001b[39m=\u001b[39m \u001b[39mlen\u001b[39m(glovekv), glovekv\u001b[39m.\u001b[39mvector_size\n\u001b[1;32m    112\u001b[0m     logger\u001b[39m.\u001b[39minfo(\u001b[39m\"\u001b[39m\u001b[39mconverting \u001b[39m\u001b[39m%i\u001b[39;00m\u001b[39m vectors from \u001b[39m\u001b[39m%s\u001b[39;00m\u001b[39m to \u001b[39m\u001b[39m%s\u001b[39;00m\u001b[39m\"\u001b[39m, num_lines, glove_input_file, word2vec_output_file)\n",
      "File \u001b[0;32m/opt/anaconda3/envs/pytorch_nlp/lib/python3.10/site-packages/gensim/models/keyedvectors.py:1723\u001b[0m, in \u001b[0;36mKeyedVectors.load_word2vec_format\u001b[0;34m(cls, fname, fvocab, binary, encoding, unicode_errors, limit, datatype, no_header)\u001b[0m\n\u001b[1;32m   1676\u001b[0m \u001b[39m@classmethod\u001b[39m\n\u001b[1;32m   1677\u001b[0m \u001b[39mdef\u001b[39;00m \u001b[39mload_word2vec_format\u001b[39m(\n\u001b[1;32m   1678\u001b[0m         \u001b[39mcls\u001b[39m, fname, fvocab\u001b[39m=\u001b[39m\u001b[39mNone\u001b[39;00m, binary\u001b[39m=\u001b[39m\u001b[39mFalse\u001b[39;00m, encoding\u001b[39m=\u001b[39m\u001b[39m'\u001b[39m\u001b[39mutf8\u001b[39m\u001b[39m'\u001b[39m, unicode_errors\u001b[39m=\u001b[39m\u001b[39m'\u001b[39m\u001b[39mstrict\u001b[39m\u001b[39m'\u001b[39m,\n\u001b[1;32m   1679\u001b[0m         limit\u001b[39m=\u001b[39m\u001b[39mNone\u001b[39;00m, datatype\u001b[39m=\u001b[39mREAL, no_header\u001b[39m=\u001b[39m\u001b[39mFalse\u001b[39;00m,\n\u001b[1;32m   1680\u001b[0m     ):\n\u001b[1;32m   1681\u001b[0m     \u001b[39m\"\"\"Load KeyedVectors from a file produced by the original C word2vec-tool format.\u001b[39;00m\n\u001b[1;32m   1682\u001b[0m \n\u001b[1;32m   1683\u001b[0m \u001b[39m    Warnings\u001b[39;00m\n\u001b[0;32m   (...)\u001b[0m\n\u001b[1;32m   1721\u001b[0m \n\u001b[1;32m   1722\u001b[0m \u001b[39m    \"\"\"\u001b[39;00m\n\u001b[0;32m-> 1723\u001b[0m     \u001b[39mreturn\u001b[39;00m _load_word2vec_format(\n\u001b[1;32m   1724\u001b[0m         \u001b[39mcls\u001b[39;49m, fname, fvocab\u001b[39m=\u001b[39;49mfvocab, binary\u001b[39m=\u001b[39;49mbinary, encoding\u001b[39m=\u001b[39;49mencoding, unicode_errors\u001b[39m=\u001b[39;49municode_errors,\n\u001b[1;32m   1725\u001b[0m         limit\u001b[39m=\u001b[39;49mlimit, datatype\u001b[39m=\u001b[39;49mdatatype, no_header\u001b[39m=\u001b[39;49mno_header,\n\u001b[1;32m   1726\u001b[0m     )\n",
      "File \u001b[0;32m/opt/anaconda3/envs/pytorch_nlp/lib/python3.10/site-packages/gensim/models/keyedvectors.py:2052\u001b[0m, in \u001b[0;36m_load_word2vec_format\u001b[0;34m(cls, fname, fvocab, binary, encoding, unicode_errors, limit, datatype, no_header, binary_chunk_size)\u001b[0m\n\u001b[1;32m   2049\u001b[0m             counts[word] \u001b[39m=\u001b[39m \u001b[39mint\u001b[39m(count)\n\u001b[1;32m   2051\u001b[0m logger\u001b[39m.\u001b[39minfo(\u001b[39m\"\u001b[39m\u001b[39mloading projection weights from \u001b[39m\u001b[39m%s\u001b[39;00m\u001b[39m\"\u001b[39m, fname)\n\u001b[0;32m-> 2052\u001b[0m \u001b[39mwith\u001b[39;00m utils\u001b[39m.\u001b[39;49mopen(fname, \u001b[39m'\u001b[39;49m\u001b[39mrb\u001b[39;49m\u001b[39m'\u001b[39;49m) \u001b[39mas\u001b[39;00m fin:\n\u001b[1;32m   2053\u001b[0m     \u001b[39mif\u001b[39;00m no_header:\n\u001b[1;32m   2054\u001b[0m         \u001b[39m# deduce both vocab_size & vector_size from 1st pass over file\u001b[39;00m\n\u001b[1;32m   2055\u001b[0m         \u001b[39mif\u001b[39;00m binary:\n",
      "File \u001b[0;32m/opt/anaconda3/envs/pytorch_nlp/lib/python3.10/site-packages/smart_open/smart_open_lib.py:188\u001b[0m, in \u001b[0;36mopen\u001b[0;34m(uri, mode, buffering, encoding, errors, newline, closefd, opener, ignore_ext, compression, transport_params)\u001b[0m\n\u001b[1;32m    185\u001b[0m \u001b[39mif\u001b[39;00m transport_params \u001b[39mis\u001b[39;00m \u001b[39mNone\u001b[39;00m:\n\u001b[1;32m    186\u001b[0m     transport_params \u001b[39m=\u001b[39m {}\n\u001b[0;32m--> 188\u001b[0m fobj \u001b[39m=\u001b[39m _shortcut_open(\n\u001b[1;32m    189\u001b[0m     uri,\n\u001b[1;32m    190\u001b[0m     mode,\n\u001b[1;32m    191\u001b[0m     compression\u001b[39m=\u001b[39;49mcompression,\n\u001b[1;32m    192\u001b[0m     buffering\u001b[39m=\u001b[39;49mbuffering,\n\u001b[1;32m    193\u001b[0m     encoding\u001b[39m=\u001b[39;49mencoding,\n\u001b[1;32m    194\u001b[0m     errors\u001b[39m=\u001b[39;49merrors,\n\u001b[1;32m    195\u001b[0m     newline\u001b[39m=\u001b[39;49mnewline,\n\u001b[1;32m    196\u001b[0m )\n\u001b[1;32m    197\u001b[0m \u001b[39mif\u001b[39;00m fobj \u001b[39mis\u001b[39;00m \u001b[39mnot\u001b[39;00m \u001b[39mNone\u001b[39;00m:\n\u001b[1;32m    198\u001b[0m     \u001b[39mreturn\u001b[39;00m fobj\n",
      "File \u001b[0;32m/opt/anaconda3/envs/pytorch_nlp/lib/python3.10/site-packages/smart_open/smart_open_lib.py:361\u001b[0m, in \u001b[0;36m_shortcut_open\u001b[0;34m(uri, mode, compression, buffering, encoding, errors, newline)\u001b[0m\n\u001b[1;32m    358\u001b[0m \u001b[39mif\u001b[39;00m errors \u001b[39mand\u001b[39;00m \u001b[39m'\u001b[39m\u001b[39mb\u001b[39m\u001b[39m'\u001b[39m \u001b[39mnot\u001b[39;00m \u001b[39min\u001b[39;00m mode:\n\u001b[1;32m    359\u001b[0m     open_kwargs[\u001b[39m'\u001b[39m\u001b[39merrors\u001b[39m\u001b[39m'\u001b[39m] \u001b[39m=\u001b[39m errors\n\u001b[0;32m--> 361\u001b[0m \u001b[39mreturn\u001b[39;00m _builtin_open(local_path, mode, buffering\u001b[39m=\u001b[39;49mbuffering, \u001b[39m*\u001b[39;49m\u001b[39m*\u001b[39;49mopen_kwargs)\n",
      "\u001b[0;31mFileNotFoundError\u001b[0m: [Errno 2] No such file or directory: 'glove.6B.300d.txt'"
     ]
    }
   ],
   "source": [
    "# 設定模型\n",
    "input_file = 'glove.6B.300d.txt'\n",
    "output_file = 'gensim_glove.6B.300d.txt'\n",
    "glove2word2vec(input_file, output_file)"
   ]
  },
  {
   "cell_type": "code",
   "execution_count": 3,
   "metadata": {},
   "outputs": [],
   "source": [
    "# 轉換並讀取模型\n",
    "model = KeyedVectors.load_word2vec_format(output_file, binary=False)"
   ]
  },
  {
   "cell_type": "markdown",
   "metadata": {},
   "source": [
    "# Step 2\n",
    "- 檢驗預訓練詞向量的效果"
   ]
  },
  {
   "cell_type": "code",
   "execution_count": 4,
   "metadata": {},
   "outputs": [
    {
     "data": {
      "text/plain": [
       "[('girl', 0.7296419143676758),\n",
       " ('man', 0.6998662948608398),\n",
       " ('mother', 0.689943790435791),\n",
       " ('she', 0.6433225870132446),\n",
       " ('her', 0.6327142715454102),\n",
       " ('female', 0.6251603364944458),\n",
       " ('herself', 0.6215280890464783),\n",
       " ('person', 0.6170897483825684),\n",
       " ('women', 0.6047609448432922),\n",
       " ('wife', 0.5986992716789246)]"
      ]
     },
     "execution_count": 4,
     "metadata": {},
     "output_type": "execute_result"
    }
   ],
   "source": [
    "# 顯示最相近的字彙\n",
    "model.most_similar(['woman'])"
   ]
  },
  {
   "cell_type": "code",
   "execution_count": 5,
   "metadata": {},
   "outputs": [
    {
     "data": {
      "text/plain": [
       "[('queen', 0.6713277101516724),\n",
       " ('princess', 0.5432624816894531),\n",
       " ('throne', 0.5386105179786682),\n",
       " ('monarch', 0.5347574949264526),\n",
       " ('daughter', 0.498025119304657)]"
      ]
     },
     "execution_count": 5,
     "metadata": {},
     "output_type": "execute_result"
    }
   ],
   "source": [
    "# 顯示最相近的字彙(附加反義詞)\n",
    "model.most_similar(positive=['woman', 'king'], negative=['man'], topn=5)"
   ]
  },
  {
   "cell_type": "code",
   "execution_count": 6,
   "metadata": {},
   "outputs": [
    {
     "data": {
      "text/plain": [
       "'cereal'"
      ]
     },
     "execution_count": 6,
     "metadata": {},
     "output_type": "execute_result"
    }
   ],
   "source": [
    "# 挑選最不相同的字彙\n",
    "model.wv.doesnt_match(\"breakfast cereal dinner lunch\".split())"
   ]
  },
  {
   "cell_type": "code",
   "execution_count": 7,
   "metadata": {},
   "outputs": [
    {
     "data": {
      "text/plain": [
       "0.69986635"
      ]
     },
     "execution_count": 7,
     "metadata": {},
     "output_type": "execute_result"
    }
   ],
   "source": [
    "# 顯示字彙間的相似性\n",
    "model.wv.similarity('woman', 'man')"
   ]
  },
  {
   "cell_type": "code",
   "execution_count": 8,
   "metadata": {},
   "outputs": [
    {
     "data": {
      "text/plain": [
       "array([-2.7628e-01,  1.3999e-01,  9.8519e-02, -6.4019e-01,  3.1988e-02,\n",
       "        1.0066e-01, -1.8673e-01, -3.7129e-01,  5.9740e-01, -2.0405e+00,\n",
       "        2.2368e-01, -2.6314e-02,  7.2408e-01, -4.3829e-01,  4.8886e-01,\n",
       "       -3.5486e-03, -1.0006e-01, -3.0587e-01, -1.5621e-01, -6.8136e-02,\n",
       "        2.1104e-01,  2.9287e-01, -8.8861e-02, -2.0462e-01, -5.7602e-01,\n",
       "        3.4526e-01,  4.1390e-01,  1.7917e-01,  2.5143e-01, -2.2678e-01,\n",
       "       -1.0103e-01,  1.4576e-01,  2.0127e-01,  3.1810e-01, -7.8907e-01,\n",
       "       -2.2194e-01, -2.4833e-01, -1.5103e-02, -2.0050e-01, -2.6441e-02,\n",
       "        1.8551e-01,  3.3782e-01, -3.3543e-01,  8.6117e-01, -4.7083e-02,\n",
       "       -1.7009e-01,  3.0438e-01,  9.4119e-02,  3.2435e-01, -8.1171e-01,\n",
       "        8.8966e-01, -3.9149e-01,  1.6828e-01,  1.4316e-01,  3.6339e-03,\n",
       "       -6.4557e-02,  4.5777e-02, -3.2248e-01,  4.8943e-02,  1.6817e-01,\n",
       "        6.8344e-02,  5.4227e-01,  1.2493e-01,  6.9742e-01, -3.7194e-02,\n",
       "        3.3080e-01, -4.2194e-01,  3.3970e-01,  2.7646e-01, -1.6003e-02,\n",
       "       -2.1827e-01,  4.4535e-01,  3.5379e-01, -2.2089e-02,  2.1375e-01,\n",
       "        4.3267e-01, -3.2897e-01,  9.6165e-02,  3.1265e-01, -3.0528e-01,\n",
       "        2.6126e-01, -6.5364e-01, -7.8014e-01, -2.3154e-01,  1.2113e-01,\n",
       "        3.4896e-01, -5.5444e-01,  4.6619e-01, -1.6520e-01,  1.1611e-01,\n",
       "       -7.6676e-01,  6.9502e-01, -1.5698e-01, -1.2490e-01,  5.6505e-01,\n",
       "        6.4499e-01, -5.7403e-01, -3.3549e-02,  3.2898e-01, -1.4025e+00,\n",
       "       -3.1143e-01,  6.4549e-01, -6.1534e-02, -6.9295e-01,  6.0894e-04,\n",
       "       -5.6544e-01,  1.9181e-01, -1.9208e-01, -6.2673e-01, -9.7473e-03,\n",
       "       -5.5040e-01, -5.6128e-01, -1.9603e-01,  2.9254e-01,  9.8576e-02,\n",
       "       -5.9395e-02,  3.3616e-03,  1.9515e-01, -6.0703e-01,  3.4262e-01,\n",
       "        9.5211e-02, -7.9411e-02,  1.4305e-01, -5.6569e-01, -6.5887e-02,\n",
       "        1.5167e-01, -1.3505e-01,  1.9571e-01,  2.2812e-01,  3.5346e-02,\n",
       "       -2.2509e-01,  1.8910e-01, -3.7348e-01,  1.2505e-01,  4.6249e-01,\n",
       "       -3.2219e-01,  9.0643e-01,  1.1595e-01,  1.1628e-01,  2.2961e-01,\n",
       "        2.4010e-01, -6.1609e-02,  3.9325e-01, -6.5066e-02,  4.2257e-01,\n",
       "        5.6880e-01,  4.9804e-01, -6.1308e-01,  4.1468e-01, -1.3448e-01,\n",
       "        6.0430e-01, -6.5462e-02, -8.5376e-02,  1.9115e-01,  3.9925e-01,\n",
       "        3.7495e-01, -1.8492e-01,  6.1751e-02, -3.8747e-01, -3.0335e-01,\n",
       "       -3.8211e-01,  2.8221e-01, -1.0286e-01, -5.8660e-01,  8.2922e-01,\n",
       "        2.5131e-01,  2.4772e-01,  8.7482e-01, -3.1359e-01,  8.1621e-01,\n",
       "       -9.0081e-01, -7.7933e-01, -1.0090e+00,  3.6472e-01, -1.1562e-01,\n",
       "       -2.4841e-01,  9.4527e-02, -4.2266e-01,  6.0392e-02, -1.5365e-01,\n",
       "       -6.9604e-02,  5.1292e-03,  3.9572e-01, -1.5692e-01,  3.5708e-01,\n",
       "       -3.5165e-01,  3.5296e-01, -5.2220e-01,  5.1400e-01, -1.7764e-01,\n",
       "       -1.0272e-01, -3.9640e-01,  3.0418e-01,  7.3659e-02, -1.1685e-01,\n",
       "        1.4299e-01, -3.6810e-01,  2.7642e-01, -4.6683e-01, -3.2633e-01,\n",
       "        5.1107e-01,  2.3945e-02,  1.1723e-01,  2.1761e-01, -1.7389e-01,\n",
       "       -6.1193e-01, -5.9449e-01,  4.7749e-01, -5.9008e-01, -3.6092e-01,\n",
       "       -9.9574e-02, -4.3098e-02, -1.5106e-01, -1.4336e-01, -3.1135e-02,\n",
       "        1.7887e-01, -6.4221e-01,  1.7242e-01,  3.3916e-01,  8.7181e-01,\n",
       "       -7.7230e-01,  5.3195e-01, -5.2763e-01,  1.7510e-01,  3.1043e-01,\n",
       "       -1.5177e-01, -2.2706e-01,  1.0803e-01,  4.4919e-01,  7.0016e-02,\n",
       "        2.0851e-01,  2.1517e-01, -6.1712e-01, -9.9970e-02,  5.5020e-03,\n",
       "        7.6786e-02,  2.8046e-01,  4.2331e-01, -5.8925e-01,  7.0554e-02,\n",
       "        3.9923e-01,  9.0201e-02,  1.7139e-01, -1.7282e-01, -5.3675e-01,\n",
       "       -4.6439e-01, -5.7850e-01, -6.8311e-01,  5.9383e-02,  1.2427e-01,\n",
       "       -1.4558e-01,  5.7687e-01, -5.7499e-01, -5.1645e-02,  3.8410e-01,\n",
       "        1.3047e-01,  3.3786e-01,  3.3204e-01,  4.0119e-01,  2.6389e-01,\n",
       "       -3.6953e-01, -2.9797e-01, -6.6816e-01, -1.1883e-01,  5.0133e-01,\n",
       "        2.0603e-01, -3.2558e-01, -1.2242e-01,  5.0666e-01,  1.6353e-01,\n",
       "       -1.0672e-01,  2.2364e-01,  2.3915e-01, -5.5509e-01, -4.8432e-01,\n",
       "       -1.2165e-02, -1.7992e+00,  3.2310e-01, -2.6309e-01, -3.2538e-01,\n",
       "       -5.8270e-01,  1.5099e-01,  3.3838e-01,  1.2007e-01,  4.1395e-01,\n",
       "       -1.5553e-01, -1.9301e-01,  5.8860e-02, -5.2420e-01, -3.7170e-01,\n",
       "        5.6205e-01, -6.5801e-01, -4.9796e-01,  2.4347e-01,  1.2873e-01,\n",
       "        3.3665e-01, -7.2609e-02, -1.5686e-01, -1.4187e-01, -2.6488e-01],\n",
       "      dtype=float32)"
      ]
     },
     "execution_count": 8,
     "metadata": {},
     "output_type": "execute_result"
    }
   ],
   "source": [
    "# 顯示字彙的詞向量\n",
    "model['computer']"
   ]
  },
  {
   "cell_type": "code",
   "execution_count": null,
   "metadata": {},
   "outputs": [],
   "source": []
  }
 ],
 "metadata": {
  "kernelspec": {
   "display_name": "Python 3.10.4 ('pytorch_nlp')",
   "language": "python",
   "name": "python3"
  },
  "language_info": {
   "codemirror_mode": {
    "name": "ipython",
    "version": 3
   },
   "file_extension": ".py",
   "mimetype": "text/x-python",
   "name": "python",
   "nbconvert_exporter": "python",
   "pygments_lexer": "ipython3",
   "version": "3.10.4"
  },
  "vscode": {
   "interpreter": {
    "hash": "26ce5c61601092ae2803f7f2dacb793d4bc91692b256a99b8317fa1e35208634"
   }
  }
 },
 "nbformat": 4,
 "nbformat_minor": 2
}
