{
 "cells": [
  {
   "cell_type": "code",
   "execution_count": 33,
   "metadata": {},
   "outputs": [],
   "source": [
    "import torch\n",
    "import torch.nn as nn\n",
    "import torchvision.models as models\n",
    "import torch.nn.functional as F\n",
    "import numpy as np\n",
    "import torch.optim as optim\n"
   ]
  },
  {
   "cell_type": "markdown",
   "metadata": {},
   "source": [
    "### 搭建模型"
   ]
  },
  {
   "cell_type": "code",
   "execution_count": 34,
   "metadata": {},
   "outputs": [],
   "source": [
    "class LinearBNAC(nn.Module):\n",
    "    def __init__(self, in_channels, out_channels, bias=True, dropout=0.3, is_output=False):\n",
    "        super(LinearBNAC, self).__init__()\n",
    "        if is_output and out_channels==1:\n",
    "            self.linear = nn.Sequential(\n",
    "                nn.Linear(in_channels, out_channels, bias=bias),\n",
    "                nn.Sigmoid()\n",
    "            )\n",
    "        elif is_output:\n",
    "            self.linear = nn.Sequential(\n",
    "                nn.Linear(in_channels, out_channels, bias=bias),\n",
    "                nn.Softmax(dim=1)\n",
    "            )   \n",
    "        else:\n",
    "            self.linear = nn.Sequential(\n",
    "                nn.Linear(in_channels, out_channels, bias=bias),\n",
    "                nn.Dropout(dropout),\n",
    "                nn.BatchNorm1d(out_channels),\n",
    "                nn.LeakyReLU(inplace=True)\n",
    "            )\n",
    "            \n",
    "    def forward(self, x):\n",
    "        out=self.linear(x)\n",
    "        return out"
   ]
  },
  {
   "cell_type": "code",
   "execution_count": 35,
   "metadata": {},
   "outputs": [],
   "source": [
    "class Model(nn.Module):\n",
    "    def __init__(self, input_dimention, output_classes=1):\n",
    "        super(Model, self).__init__()\n",
    "        self.layer1 = LinearBNAC(input_dimention, 128)\n",
    "        self.layer2 = LinearBNAC(128, 32)\n",
    "        self.layer3 = LinearBNAC(32,32)\n",
    "        self.output = LinearBNAC(32, output_classes, is_output=True)\n",
    "    def forward(self, x):\n",
    "        x = self.layer1(x)\n",
    "        x = self.layer2(x)\n",
    "        x = self.layer3(x)\n",
    "        x = self.output(x)\n",
    "        return x \n",
    "        "
   ]
  },
  {
   "cell_type": "markdown",
   "metadata": {},
   "source": [
    "### 準備輸入資料、優化器、標籤資料、模型輸出"
   ]
  },
  {
   "cell_type": "code",
   "execution_count": 36,
   "metadata": {},
   "outputs": [],
   "source": [
    "model = Model(input_dimention=256,output_classes=10)\n",
    "optimizer = optim.Adam(params=model.parameters())"
   ]
  },
  {
   "cell_type": "code",
   "execution_count": 38,
   "metadata": {},
   "outputs": [],
   "source": [
    "batch_size = 4\n",
    "input_features = 256\n",
    "dummy_input = torch.randn(batch_size, input_features,)\n",
    "target = torch.tensor([9, 5, 4, 4], dtype=torch.long)"
   ]
  },
  {
   "cell_type": "code",
   "execution_count": 39,
   "metadata": {},
   "outputs": [
    {
     "name": "stdout",
     "output_type": "stream",
     "text": [
      "tensor([[0.0778, 0.2153, 0.0870, 0.0675, 0.2296, 0.0501, 0.0284, 0.1086, 0.0644,\n",
      "         0.0713],\n",
      "        [0.0952, 0.1620, 0.0415, 0.0647, 0.2410, 0.0878, 0.0790, 0.0447, 0.1157,\n",
      "         0.0683],\n",
      "        [0.0729, 0.1166, 0.1070, 0.0704, 0.1716, 0.1372, 0.0795, 0.0773, 0.0889,\n",
      "         0.0786],\n",
      "        [0.1425, 0.0797, 0.0639, 0.0882, 0.1560, 0.1936, 0.1091, 0.0556, 0.0533,\n",
      "         0.0580]], grad_fn=<SoftmaxBackward0>)\n"
     ]
    }
   ],
   "source": [
    "output = model(dummy_input)\n",
    "print(output)"
   ]
  },
  {
   "cell_type": "markdown",
   "metadata": {},
   "source": [
    "### 計算 CrossEntropy Loss\n",
    "* 請注意哪一個 Loss最適合：我們已經使用 softmax\n",
    "* 因為我們有使用dropout，並隨機產生dummy_input，所以各為學員得到的值會與解答不同，然而步驟原理需要相同"
   ]
  },
  {
   "cell_type": "code",
   "execution_count": 40,
   "metadata": {},
   "outputs": [],
   "source": [
    "from torch.nn import NLLLoss, LogSoftmax, CrossEntropyLoss"
   ]
  },
  {
   "cell_type": "code",
   "execution_count": 41,
   "metadata": {},
   "outputs": [],
   "source": [
    "criterion = NLLLoss()"
   ]
  },
  {
   "cell_type": "code",
   "execution_count": 42,
   "metadata": {},
   "outputs": [],
   "source": [
    "loss = criterion(torch.log(output), target)"
   ]
  },
  {
   "cell_type": "markdown",
   "metadata": {},
   "source": [
    "### 完成back propagation並更新梯度"
   ]
  },
  {
   "cell_type": "code",
   "execution_count": 43,
   "metadata": {},
   "outputs": [],
   "source": [
    "loss.backward()"
   ]
  },
  {
   "cell_type": "code",
   "execution_count": 44,
   "metadata": {},
   "outputs": [
    {
     "name": "stdout",
     "output_type": "stream",
     "text": [
      "weight : Parameter containing:\n",
      "tensor([[-0.0367,  0.0324,  0.0499,  ...,  0.0319, -0.0236,  0.0232],\n",
      "        [ 0.0535,  0.0526,  0.0186,  ...,  0.0344,  0.0095, -0.0515],\n",
      "        [-0.0520, -0.0169, -0.0487,  ...,  0.0460, -0.0576, -0.0339],\n",
      "        ...,\n",
      "        [ 0.0202,  0.0337, -0.0009,  ...,  0.0566,  0.0131, -0.0353],\n",
      "        [-0.0228, -0.0182, -0.0454,  ...,  0.0361, -0.0077, -0.0392],\n",
      "        [-0.0530, -0.0192,  0.0044,  ...,  0.0139, -0.0194, -0.0616]],\n",
      "       requires_grad=True)\n",
      "\n",
      "\n",
      "grad : tensor([[-0.0040,  0.0041, -0.0047,  ..., -0.0030, -0.0072,  0.0084],\n",
      "        [ 0.0181,  0.0003,  0.0054,  ...,  0.0127,  0.0087, -0.0075],\n",
      "        [ 0.0190, -0.0113, -0.0533,  ...,  0.1623, -0.1211, -0.0309],\n",
      "        ...,\n",
      "        [ 0.0450,  0.0582,  0.0846,  ..., -0.0955,  0.1056, -0.0054],\n",
      "        [ 0.0430,  0.0435,  0.0433,  ..., -0.0109,  0.0323, -0.0126],\n",
      "        [-0.0521, -0.0314,  0.0407,  ..., -0.1907,  0.1420,  0.0328]])\n"
     ]
    }
   ],
   "source": [
    "print('weight : {}'.format(model.layer1.linear[0].weight))\n",
    "print('\\n')\n",
    "print('grad : {}'.format(model.layer1.linear[0].weight.grad))"
   ]
  },
  {
   "cell_type": "code",
   "execution_count": 45,
   "metadata": {},
   "outputs": [],
   "source": [
    "optimizer.step()"
   ]
  },
  {
   "cell_type": "code",
   "execution_count": 46,
   "metadata": {},
   "outputs": [
    {
     "name": "stdout",
     "output_type": "stream",
     "text": [
      "weight : Parameter containing:\n",
      "tensor([[-0.0357,  0.0314,  0.0509,  ...,  0.0329, -0.0226,  0.0222],\n",
      "        [ 0.0525,  0.0516,  0.0176,  ...,  0.0334,  0.0085, -0.0505],\n",
      "        [-0.0530, -0.0159, -0.0477,  ...,  0.0450, -0.0566, -0.0329],\n",
      "        ...,\n",
      "        [ 0.0192,  0.0327, -0.0019,  ...,  0.0576,  0.0121, -0.0343],\n",
      "        [-0.0238, -0.0192, -0.0464,  ...,  0.0371, -0.0087, -0.0382],\n",
      "        [-0.0520, -0.0182,  0.0034,  ...,  0.0149, -0.0204, -0.0626]],\n",
      "       requires_grad=True)\n",
      "\n",
      "\n",
      "grad : tensor([[-0.0040,  0.0041, -0.0047,  ..., -0.0030, -0.0072,  0.0084],\n",
      "        [ 0.0181,  0.0003,  0.0054,  ...,  0.0127,  0.0087, -0.0075],\n",
      "        [ 0.0190, -0.0113, -0.0533,  ...,  0.1623, -0.1211, -0.0309],\n",
      "        ...,\n",
      "        [ 0.0450,  0.0582,  0.0846,  ..., -0.0955,  0.1056, -0.0054],\n",
      "        [ 0.0430,  0.0435,  0.0433,  ..., -0.0109,  0.0323, -0.0126],\n",
      "        [-0.0521, -0.0314,  0.0407,  ..., -0.1907,  0.1420,  0.0328]])\n"
     ]
    }
   ],
   "source": [
    "print('weight : {}'.format(model.layer1.linear[0].weight))\n",
    "print('\\n')\n",
    "print('grad : {}'.format(model.layer1.linear[0].weight.grad))"
   ]
  },
  {
   "cell_type": "markdown",
   "metadata": {},
   "source": [
    "### 清空 gradient"
   ]
  },
  {
   "cell_type": "code",
   "execution_count": 47,
   "metadata": {},
   "outputs": [],
   "source": [
    "optimizer.zero_grad()"
   ]
  },
  {
   "cell_type": "code",
   "execution_count": 48,
   "metadata": {},
   "outputs": [
    {
     "name": "stdout",
     "output_type": "stream",
     "text": [
      "weight : Parameter containing:\n",
      "tensor([[-0.0357,  0.0314,  0.0509,  ...,  0.0329, -0.0226,  0.0222],\n",
      "        [ 0.0525,  0.0516,  0.0176,  ...,  0.0334,  0.0085, -0.0505],\n",
      "        [-0.0530, -0.0159, -0.0477,  ...,  0.0450, -0.0566, -0.0329],\n",
      "        ...,\n",
      "        [ 0.0192,  0.0327, -0.0019,  ...,  0.0576,  0.0121, -0.0343],\n",
      "        [-0.0238, -0.0192, -0.0464,  ...,  0.0371, -0.0087, -0.0382],\n",
      "        [-0.0520, -0.0182,  0.0034,  ...,  0.0149, -0.0204, -0.0626]],\n",
      "       requires_grad=True)\n",
      "\n",
      "\n",
      "grad : tensor([[0., 0., 0.,  ..., 0., 0., 0.],\n",
      "        [0., 0., 0.,  ..., 0., 0., 0.],\n",
      "        [0., 0., 0.,  ..., 0., 0., 0.],\n",
      "        ...,\n",
      "        [0., 0., 0.,  ..., 0., 0., 0.],\n",
      "        [0., 0., 0.,  ..., 0., 0., 0.],\n",
      "        [0., 0., 0.,  ..., 0., 0., 0.]])\n"
     ]
    }
   ],
   "source": [
    "print('weight : {}'.format(model.layer1.linear[0].weight))\n",
    "print('\\n')\n",
    "print('grad : {}'.format(model.layer1.linear[0].weight.grad))"
   ]
  },
  {
   "cell_type": "code",
   "execution_count": null,
   "metadata": {},
   "outputs": [],
   "source": []
  }
 ],
 "metadata": {
  "kernelspec": {
   "display_name": "Python 3.10.4 ('pytorch_nlp')",
   "language": "python",
   "name": "python3"
  },
  "language_info": {
   "codemirror_mode": {
    "name": "ipython",
    "version": 3
   },
   "file_extension": ".py",
   "mimetype": "text/x-python",
   "name": "python",
   "nbconvert_exporter": "python",
   "pygments_lexer": "ipython3",
   "version": "3.10.4"
  },
  "vscode": {
   "interpreter": {
    "hash": "26ce5c61601092ae2803f7f2dacb793d4bc91692b256a99b8317fa1e35208634"
   }
  }
 },
 "nbformat": 4,
 "nbformat_minor": 2
}
